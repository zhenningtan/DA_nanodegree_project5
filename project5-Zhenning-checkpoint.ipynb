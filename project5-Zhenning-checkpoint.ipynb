{
 "cells": [
  {
   "cell_type": "markdown",
   "metadata": {},
   "source": [
    "# Project5- Zhenning\n",
    "# Identify Enron Fraud "
   ]
  },
  {
   "cell_type": "code",
   "execution_count": 1,
   "metadata": {
    "collapsed": false
   },
   "outputs": [
    {
     "name": "stdout",
     "output_type": "stream",
     "text": [
      "C:\\Users\\Zhenning\\Desktop\\Code\\DA_Nanodegree\\Project5\\ud120-projects\\final_project\n"
     ]
    }
   ],
   "source": [
    "cd \"C:\\Users\\Zhenning\\Desktop\\Code\\DA_Nanodegree\\Project5\\ud120-projects\\final_project\""
   ]
  },
  {
   "cell_type": "code",
   "execution_count": 2,
   "metadata": {
    "collapsed": true
   },
   "outputs": [],
   "source": [
    "# %load poi_id.py\n",
    "#!/usr/bin/python\n",
    "\n",
    "import sys\n",
    "import pickle\n",
    "sys.path.append(\"../tools/\")\n",
    "\n",
    "from feature_format import featureFormat, targetFeatureSplit\n",
    "from tester import dump_classifier_and_data\n",
    "import matplotlib.pyplot as plt\n",
    "%matplotlib inline  \n",
    "from pprint import pprint"
   ]
  },
  {
   "cell_type": "code",
   "execution_count": 3,
   "metadata": {
    "collapsed": true
   },
   "outputs": [],
   "source": [
    "from sklearn.cross_validation import StratifiedShuffleSplit\n",
    "\n",
    "\n",
    "PERF_FORMAT_STRING = \"\\\n",
    "\\tAccuracy: {:>0.{display_precision}f}\\tPrecision: {:>0.{display_precision}f}\\t\\\n",
    "Recall: {:>0.{display_precision}f}\\tF1: {:>0.{display_precision}f}\\tF2: {:>0.{display_precision}f}\"\n",
    "RESULTS_FORMAT_STRING = \"\\tTotal predictions: {:4d}\\tTrue positives: {:4d}\\tFalse positives: {:4d}\\\n",
    "\\tFalse negatives: {:4d}\\tTrue negatives: {:4d}\"\n",
    "\n",
    "def test_classifier(clf, dataset, feature_list, folds = 1000):\n",
    "    data = featureFormat(dataset, feature_list, sort_keys = True)\n",
    "    labels, features = targetFeatureSplit(data)\n",
    "    cv = StratifiedShuffleSplit(labels, folds, random_state = 42)\n",
    "    true_negatives = 0\n",
    "    false_negatives = 0\n",
    "    true_positives = 0\n",
    "    false_positives = 0\n",
    "    for train_idx, test_idx in cv: \n",
    "        features_train = []\n",
    "        features_test  = []\n",
    "        labels_train   = []\n",
    "        labels_test    = []\n",
    "        for ii in train_idx:\n",
    "            features_train.append( features[ii] )\n",
    "            labels_train.append( labels[ii] )\n",
    "        for jj in test_idx:\n",
    "            features_test.append( features[jj] )\n",
    "            labels_test.append( labels[jj] )\n",
    "        \n",
    "        ### fit the classifier using training set, and test on test set\n",
    "        clf.fit(features_train, labels_train)\n",
    "        predictions = clf.predict(features_test)\n",
    "        for prediction, truth in zip(predictions, labels_test):\n",
    "            if prediction == 0 and truth == 0:\n",
    "                true_negatives += 1\n",
    "            elif prediction == 0 and truth == 1:\n",
    "                false_negatives += 1\n",
    "            elif prediction == 1 and truth == 0:\n",
    "                false_positives += 1\n",
    "            elif prediction == 1 and truth == 1:\n",
    "                true_positives += 1\n",
    "            else:\n",
    "                print \"Warning: Found a predicted label not == 0 or 1.\"\n",
    "                print \"All predictions should take value 0 or 1.\"\n",
    "                print \"Evaluating performance for processed predictions:\"\n",
    "                break\n",
    "    try:\n",
    "        total_predictions = true_negatives + false_negatives + false_positives + true_positives\n",
    "        accuracy = 1.0*(true_positives + true_negatives)/total_predictions\n",
    "        precision = 1.0*true_positives/(true_positives+false_positives)\n",
    "        recall = 1.0*true_positives/(true_positives+false_negatives)\n",
    "        f1 = 2.0 * true_positives/(2*true_positives + false_positives+false_negatives)\n",
    "        f2 = (1+2.0*2.0) * precision*recall/(4*precision + recall)\n",
    "        print clf\n",
    "        print PERF_FORMAT_STRING.format(accuracy, precision, recall, f1, f2, display_precision = 5)\n",
    "        print RESULTS_FORMAT_STRING.format(total_predictions, true_positives, false_positives, false_negatives, true_negatives)\n",
    "        print \"\"\n",
    "    except:\n",
    "        print \"Got a divide by zero when trying out:\", clf\n",
    "        print \"Precision or recall may be undefined due to a lack of true positive predicitons.\"\n"
   ]
  },
  {
   "cell_type": "markdown",
   "metadata": {},
   "source": [
    "# 1. Understand the dataset and question"
   ]
  },
  {
   "cell_type": "markdown",
   "metadata": {},
   "source": [
    "## 1.1 Data exploration"
   ]
  },
  {
   "cell_type": "code",
   "execution_count": 4,
   "metadata": {
    "collapsed": true
   },
   "outputs": [],
   "source": [
    "### Load the dictionary containing the dataset\n",
    "with open(\"final_project_dataset.pkl\", \"r\") as data_file:\n",
    "    data_dict = pickle.load(data_file)"
   ]
  },
  {
   "cell_type": "code",
   "execution_count": 5,
   "metadata": {
    "collapsed": false
   },
   "outputs": [
    {
     "name": "stdout",
     "output_type": "stream",
     "text": [
      "total number of data points: 146\n"
     ]
    }
   ],
   "source": [
    "### Explore dataset\n",
    "num_data_points = len(data_dict)\n",
    "print \"total number of data points:\", num_data_points"
   ]
  },
  {
   "cell_type": "code",
   "execution_count": 6,
   "metadata": {
    "collapsed": false
   },
   "outputs": [
    {
     "name": "stdout",
     "output_type": "stream",
     "text": [
      "Structure of the data points:\n",
      "{'bonus': 600000,\n",
      " 'deferral_payments': 'NaN',\n",
      " 'deferred_income': 'NaN',\n",
      " 'director_fees': 'NaN',\n",
      " 'email_address': 'mark.metts@enron.com',\n",
      " 'exercised_stock_options': 'NaN',\n",
      " 'expenses': 94299,\n",
      " 'from_messages': 29,\n",
      " 'from_poi_to_this_person': 38,\n",
      " 'from_this_person_to_poi': 1,\n",
      " 'loan_advances': 'NaN',\n",
      " 'long_term_incentive': 'NaN',\n",
      " 'other': 1740,\n",
      " 'poi': False,\n",
      " 'restricted_stock': 585062,\n",
      " 'restricted_stock_deferred': 'NaN',\n",
      " 'salary': 365788,\n",
      " 'shared_receipt_with_poi': 702,\n",
      " 'to_messages': 807,\n",
      " 'total_payments': 1061827,\n",
      " 'total_stock_value': 585062}\n"
     ]
    }
   ],
   "source": [
    "people = [key for key in data_dict]\n",
    "#print people\n",
    "print \"Structure of the data points:\"\n",
    "pprint(data_dict['METTS MARK'])  # check the structure of the data points using one person as an example"
   ]
  },
  {
   "cell_type": "code",
   "execution_count": 7,
   "metadata": {
    "collapsed": false
   },
   "outputs": [
    {
     "name": "stdout",
     "output_type": "stream",
     "text": [
      "all features:\n",
      "['salary',\n",
      " 'to_messages',\n",
      " 'deferral_payments',\n",
      " 'total_payments',\n",
      " 'exercised_stock_options',\n",
      " 'bonus',\n",
      " 'restricted_stock',\n",
      " 'shared_receipt_with_poi',\n",
      " 'restricted_stock_deferred',\n",
      " 'total_stock_value',\n",
      " 'expenses',\n",
      " 'loan_advances',\n",
      " 'from_messages',\n",
      " 'other',\n",
      " 'from_this_person_to_poi',\n",
      " 'poi',\n",
      " 'director_fees',\n",
      " 'deferred_income',\n",
      " 'long_term_incentive',\n",
      " 'email_address',\n",
      " 'from_poi_to_this_person']\n",
      "total number of features: 21\n"
     ]
    }
   ],
   "source": [
    "# find all the features\n",
    "all_features = [key for key in data_dict['METTS MARK']]\n",
    "print \"all features:\"\n",
    "pprint (all_features)\n",
    "print \"total number of features:\", len(all_features)"
   ]
  },
  {
   "cell_type": "code",
   "execution_count": 233,
   "metadata": {
    "collapsed": false
   },
   "outputs": [],
   "source": [
    "# There are missing values in some fields. Find out the percentage of missing values in each feature\n",
    "missing_value = []\n",
    "\n",
    "for feature in all_features:\n",
    "    count = 0\n",
    "    for k in data_dict:\n",
    "        if data_dict[k][feature] == \"NaN\":\n",
    "            count +=1\n",
    "    percentage = 1.0*count / num_data_points\n",
    "    missing_value.append((feature, round(percentage,3)))\n"
   ]
  },
  {
   "cell_type": "code",
   "execution_count": 234,
   "metadata": {
    "collapsed": false
   },
   "outputs": [
    {
     "name": "stdout",
     "output_type": "stream",
     "text": [
      "[('poi', 0.0),\n",
      " ('exercised_stock_option_ratio', 0.0),\n",
      " ('poi_email', 0.0),\n",
      " ('total_stock_value', 0.137),\n",
      " ('total_payments', 0.144),\n",
      " ('email_address', 0.233),\n",
      " ('restricted_stock', 0.247),\n",
      " ('exercised_stock_options', 0.301),\n",
      " ('expenses', 0.349),\n",
      " ('salary', 0.349),\n",
      " ('other', 0.363),\n",
      " ('to_messages', 0.404),\n",
      " ('shared_receipt_with_poi', 0.404),\n",
      " ('from_messages', 0.404),\n",
      " ('from_poi_to_this_person', 0.404),\n",
      " ('from_this_person_to_poi', 0.404),\n",
      " ('bonus', 0.438),\n",
      " ('long_term_incentive', 0.548),\n",
      " ('deferred_income', 0.664),\n",
      " ('deferral_payments', 0.733),\n",
      " ('restricted_stock_deferred', 0.877),\n",
      " ('director_fees', 0.884),\n",
      " ('loan_advances', 0.973)]\n"
     ]
    }
   ],
   "source": [
    "missing_value.sort(key = lambda tup: tup[1], reverse = False)\n",
    "pprint (missing_value)"
   ]
  },
  {
   "cell_type": "markdown",
   "metadata": {},
   "source": [
    "### There are missing values in all features, except the class label 'poi'. I will pay attention to the features with a large percentage of missing values during feature selection and try not to include them in the final model. "
   ]
  },
  {
   "cell_type": "code",
   "execution_count": 41,
   "metadata": {
    "collapsed": false
   },
   "outputs": [
    {
     "name": "stdout",
     "output_type": "stream",
     "text": [
      "number of POI: 18\n",
      "number of non-POI: 128\n"
     ]
    }
   ],
   "source": [
    "# find the number of poi and non-POI \n",
    "print \"number of POI:\", len( [person for person in data_dict if data_dict[person][\"poi\"] == True ])\n",
    "print \"number of non-POI:\", len( [person for person in data_dict if data_dict[person][\"poi\"] == False ])\n"
   ]
  },
  {
   "cell_type": "code",
   "execution_count": 42,
   "metadata": {
    "collapsed": false
   },
   "outputs": [
    {
     "name": "stdout",
     "output_type": "stream",
     "text": [
      "majority class prediciton accuracy: 0.876712328767\n"
     ]
    }
   ],
   "source": [
    "# calculate the majority class prediction for this highly imbalanced dataset\n",
    "print \"majority class prediciton accuracy:\", 128./146"
   ]
  },
  {
   "cell_type": "markdown",
   "metadata": {},
   "source": [
    "## 1.2 Examine outliers "
   ]
  },
  {
   "cell_type": "code",
   "execution_count": 43,
   "metadata": {
    "collapsed": false
   },
   "outputs": [
    {
     "data": {
      "image/png": "[encoded data removed]",
      "text/plain": [
       "<matplotlib.figure.Figure at 0x940f320>"
      ]
     },
     "metadata": {},
     "output_type": "display_data"
    }
   ],
   "source": [
    "### Task 2: Remove outliers\n",
    "# find outliers\n",
    "features = ['total_payments', \"total_stock_value\"]\n",
    "data = featureFormat(data_dict, features)\n",
    "\n",
    "for point in data:\n",
    "    xp = point[0]\n",
    "    yp = point[1]\n",
    "    plt.scatter( xp, yp )\n",
    "    if xp > 2e7:\n",
    "        outlier = xp\n",
    "\n",
    "plt.xlabel(features[0])\n",
    "plt.ylabel(features[1])\n",
    "plt.show()\n"
   ]
  },
  {
   "cell_type": "markdown",
   "metadata": {},
   "source": [
    "### The \"total\" data point appears as the outlier and is not a real data point for analysis. Remove the \"total\" data point"
   ]
  },
  {
   "cell_type": "code",
   "execution_count": 44,
   "metadata": {
    "collapsed": false
   },
   "outputs": [
    {
     "name": "stdout",
     "output_type": "stream",
     "text": [
      "TOTAL {'salary': 26704229, 'to_messages': 'NaN', 'deferral_payments': 32083396, 'total_payments': 309886585, 'exercised_stock_options': 311764000, 'bonus': 97343619, 'restricted_stock': 130322299, 'shared_receipt_with_poi': 'NaN', 'restricted_stock_deferred': -7576788, 'total_stock_value': 434509511, 'expenses': 5235198, 'loan_advances': 83925000, 'from_messages': 'NaN', 'other': 42667589, 'from_this_person_to_poi': 'NaN', 'poi': False, 'director_fees': 1398517, 'deferred_income': -27992891, 'long_term_incentive': 48521928, 'email_address': 'NaN', 'from_poi_to_this_person': 'NaN'}\n",
      "number of data_points after removing oulier: 145\n"
     ]
    }
   ],
   "source": [
    "for k, v in data_dict.items():\n",
    "    if v[\"total_payments\"] == outlier:\n",
    "        print k, v\n",
    "\n",
    "# remove the \"total\" data point outlier\n",
    "data_dict.pop(\"TOTAL\")\n",
    "print \"number of data_points after removing oulier:\", len(data_dict)"
   ]
  },
  {
   "cell_type": "code",
   "execution_count": 45,
   "metadata": {
    "collapsed": false
   },
   "outputs": [
    {
     "data": {
      "image/png": "[encoded data removed]",
      "text/plain": [
       "<matplotlib.figure.Figure at 0xa103470>"
      ]
     },
     "metadata": {},
     "output_type": "display_data"
    }
   ],
   "source": [
    "# re-visualize scatter plot after removing the \"total\" data point\n",
    "data = featureFormat(data_dict, features)\n",
    "\n",
    "for point in data:\n",
    "    xp = point[0]\n",
    "    yp = point[1]\n",
    "    plt.scatter( xp, yp )\n",
    "    if xp > 2e7:\n",
    "        outlier = xp\n",
    "\n",
    "plt.xlabel(features[0])\n",
    "plt.ylabel(features[1])\n",
    "plt.show()\n"
   ]
  },
  {
   "cell_type": "markdown",
   "metadata": {},
   "source": [
    "### There is one more data point with very high total payment and total stock value. Find out if it's another irrelavent input or an extreme case of real data point"
   ]
  },
  {
   "cell_type": "code",
   "execution_count": 46,
   "metadata": {
    "collapsed": false
   },
   "outputs": [
    {
     "name": "stdout",
     "output_type": "stream",
     "text": [
      "LAY KENNETH L {'salary': 1072321, 'to_messages': 4273, 'deferral_payments': 202911, 'total_payments': 103559793, 'exercised_stock_options': 34348384, 'bonus': 7000000, 'restricted_stock': 14761694, 'shared_receipt_with_poi': 2411, 'restricted_stock_deferred': 'NaN', 'total_stock_value': 49110078, 'expenses': 99832, 'loan_advances': 81525000, 'from_messages': 36, 'other': 10359729, 'from_this_person_to_poi': 16, 'poi': True, 'director_fees': 'NaN', 'deferred_income': -300000, 'long_term_incentive': 3600000, 'email_address': 'kenneth.lay@enron.com', 'from_poi_to_this_person': 123}\n"
     ]
    }
   ],
   "source": [
    "for k, v in data_dict.items():\n",
    "    if v[\"total_payments\"] > 1e8 and v[\"total_payments\"] != \"NaN\":\n",
    "        print k, v"
   ]
  },
  {
   "cell_type": "markdown",
   "metadata": {},
   "source": [
    "### This person is Kenneth Lay, CEO of Enron, which makes sense that he had a very high total payment and stock value. Since this is a real data point, I will keep it for analysis."
   ]
  },
  {
   "cell_type": "markdown",
   "metadata": {},
   "source": [
    "# 2. Feature engineering and selection "
   ]
  },
  {
   "cell_type": "markdown",
   "metadata": {},
   "source": [
    "## 2.1 Feature engineering "
   ]
  },
  {
   "cell_type": "markdown",
   "metadata": {},
   "source": [
    "### Since email communication with POIs can indicate the person's involvement in the fraud, I multiplied the number of emails from a person to POI and that from POI to this person to create a new feature called poi_email that amplifies the effect of a person's email communication with POI on identification"
   ]
  },
  {
   "cell_type": "code",
   "execution_count": 47,
   "metadata": {
    "collapsed": true
   },
   "outputs": [],
   "source": [
    "### Task 3: Create new feature(s)\n",
    "\n",
    "for k in data_dict:\n",
    "    data_point = data_dict[k]\n",
    "    if data_point[\"from_this_person_to_poi\"] == \"NaN\" or data_point[\"from_poi_to_this_person\"] == \"NaN\":\n",
    "        data_point[\"poi_email\"] = 0\n",
    "    else:\n",
    "        data_point[\"poi_email\"] = int(data_point[\"from_this_person_to_poi\"])* int(data_point[\"from_poi_to_this_person\"])\n"
   ]
  },
  {
   "cell_type": "markdown",
   "metadata": {},
   "source": [
    "### POIs are likely to exercise their stock options when they sense the corporation is in trouble. Therefore, the fraction of exercised stock options may be high for POIs. I created a new feature called, exercised_stock_option_ratio, to reflect the fraction of exercised stock options to the total stock option value"
   ]
  },
  {
   "cell_type": "code",
   "execution_count": 48,
   "metadata": {
    "collapsed": true
   },
   "outputs": [],
   "source": [
    "for k in data_dict:\n",
    "    data_point = data_dict[k]\n",
    "    if data_point[\"exercised_stock_options\"] ==\"NaN\" or data_point[\"total_stock_value\"] == \"NaN\":\n",
    "        data_point[\"exercised_stock_option_ratio\"] = 0\n",
    "    else:\n",
    "        data_point[\"exercised_stock_option_ratio\"] = int(data_point[\"exercised_stock_options\"])* int(data_point[\"total_stock_value\"])\n"
   ]
  },
  {
   "cell_type": "code",
   "execution_count": 49,
   "metadata": {
    "collapsed": false
   },
   "outputs": [
    {
     "name": "stdout",
     "output_type": "stream",
     "text": [
      "all features:\n",
      "['to_messages', 'deferral_payments', 'expenses', 'poi', 'deferred_income', 'exercised_stock_option_ratio', 'email_address', 'long_term_incentive', 'restricted_stock_deferred', 'shared_receipt_with_poi', 'poi_email', 'loan_advances', 'from_messages', 'other', 'director_fees', 'bonus', 'total_stock_value', 'from_poi_to_this_person', 'from_this_person_to_poi', 'restricted_stock', 'salary', 'total_payments', 'exercised_stock_options']\n",
      "total number of features: 23\n"
     ]
    }
   ],
   "source": [
    "# check all the features after feature engineering to ensure the engineered features are included in the dataset\n",
    "all_features = [key for key in data_dict['METTS MARK']]\n",
    "print \"all features:\"\n",
    "print all_features\n",
    "print \"total number of features:\", len(all_features)\n"
   ]
  },
  {
   "cell_type": "code",
   "execution_count": 50,
   "metadata": {
    "collapsed": true
   },
   "outputs": [],
   "source": [
    "### Store to my_dataset for easy export below.\n",
    "my_dataset = data_dict"
   ]
  },
  {
   "cell_type": "markdown",
   "metadata": {},
   "source": [
    "## 2.2 Feature selection: use a variety of classifiers and different features to select a classifier and features for further tuning. Due to the limited number of data points and highly imbalanced classes, I use \"StratifiedShuffleSplit\" to create multiple folds of train and test data and calculate the average accuracy, precision and recall from all folds. This will give a more objective evaluation of the model. I took advantage of the \"test_classifier\" function written in the tester.py"
   ]
  },
  {
   "cell_type": "markdown",
   "metadata": {},
   "source": [
    "### First, try all the features with numeric data, excluding \"email address\""
   ]
  },
  {
   "cell_type": "code",
   "execution_count": 76,
   "metadata": {
    "collapsed": true
   },
   "outputs": [],
   "source": [
    "feature_list = ['poi', 'to_messages', 'deferral_payments', 'expenses',  'deferred_income', \n",
    "                'exercised_stock_option_ratio',  'long_term_incentive', \n",
    "                'restricted_stock_deferred', 'shared_receipt_with_poi', 'poi_email', 'loan_advances', \n",
    "                'from_messages', 'other', 'director_fees', 'bonus', 'total_stock_value', \n",
    "                'from_poi_to_this_person', 'from_this_person_to_poi', 'restricted_stock', \n",
    "                'salary', 'total_payments', 'exercised_stock_options']"
   ]
  },
  {
   "cell_type": "code",
   "execution_count": 77,
   "metadata": {
    "collapsed": false
   },
   "outputs": [
    {
     "name": "stdout",
     "output_type": "stream",
     "text": [
      "22\n"
     ]
    }
   ],
   "source": [
    "print len(feature_list)"
   ]
  },
  {
   "cell_type": "code",
   "execution_count": 84,
   "metadata": {
    "collapsed": false
   },
   "outputs": [],
   "source": [
    "from sklearn.feature_selection import SelectKBest, f_classif\n",
    "from sklearn.pipeline import Pipeline\n",
    "from sklearn.preprocessing import MinMaxScaler\n",
    "from sklearn.grid_search import GridSearchCV"
   ]
  },
  {
   "cell_type": "code",
   "execution_count": 86,
   "metadata": {
    "collapsed": true
   },
   "outputs": [],
   "source": [
    "scaler = MinMaxScaler()\n",
    "select_filter = SelectKBest (f_classif)\n"
   ]
  },
  {
   "cell_type": "code",
   "execution_count": 87,
   "metadata": {
    "collapsed": false
   },
   "outputs": [
    {
     "name": "stdout",
     "output_type": "stream",
     "text": [
      "Pipeline(steps=[('filter', SelectKBest(k=10, score_func=<function f_classif at 0x0000000009594AC8>)), ('classifier', GaussianNB())])\n",
      "\tAccuracy: 0.88800\tPrecision: 0.71053\tRecall: 0.27000\tF1: 0.39130\tF2: 0.30822\n",
      "\tTotal predictions: 1500\tTrue positives:   54\tFalse positives:   22\tFalse negatives:  146\tTrue negatives: 1278\n",
      "\n"
     ]
    }
   ],
   "source": [
    "from sklearn.naive_bayes import GaussianNB\n",
    "clf = GaussianNB()\n",
    "pipeline_NB = Pipeline([(\"filter\", select_filter), \n",
    "                       (\"classifier\", clf) ])\n",
    "test_classifier(pipeline_NB, my_dataset, feature_list, folds = 100)"
   ]
  },
  {
   "cell_type": "code",
   "execution_count": 236,
   "metadata": {
    "collapsed": true
   },
   "outputs": [],
   "source": [
    "parameters = { \"filter__k\": [4,5,6,7,8,9,10]\n",
    "    \n",
    "}\n",
    "\n",
    "data = featureFormat(my_dataset, feature_list, sort_keys = True)\n",
    "labels, features = targetFeatureSplit(data)\n",
    "\n",
    "sss = StratifiedShuffleSplit(labels,  n_iter=100, random_state = 42)"
   ]
  },
  {
   "cell_type": "code",
   "execution_count": 237,
   "metadata": {
    "collapsed": false
   },
   "outputs": [],
   "source": [
    "gs = GridSearchCV(pipeline_NB, param_grid= parameters, scoring = 'f1', cv =sss ) # F1 score is a combination of precision and recall\n"
   ]
  },
  {
   "cell_type": "code",
   "execution_count": 238,
   "metadata": {
    "collapsed": false
   },
   "outputs": [
    {
     "data": {
      "text/plain": [
       "GridSearchCV(cv=StratifiedShuffleSplit(labels=[ 0.  0. ...,  1.  0.], n_iter=100, test_size=0.1, random_state=42),\n",
       "       error_score='raise',\n",
       "       estimator=Pipeline(steps=[('filter', SelectKBest(k=10, score_func=<function f_classif at 0x0000000009594AC8>)), ('classifier', GaussianNB())]),\n",
       "       fit_params={}, iid=True, n_jobs=1,\n",
       "       param_grid={'filter__k': [4, 5, 6, 7, 8, 9, 10]},\n",
       "       pre_dispatch='2*n_jobs', refit=True, scoring='f1', verbose=0)"
      ]
     },
     "execution_count": 238,
     "metadata": {},
     "output_type": "execute_result"
    }
   ],
   "source": [
    "gs.fit(features, labels)"
   ]
  },
  {
   "cell_type": "code",
   "execution_count": 239,
   "metadata": {
    "collapsed": false
   },
   "outputs": [
    {
     "name": "stdout",
     "output_type": "stream",
     "text": [
      "Best estimator found by grid search:\n",
      "Pipeline(steps=[('filter', SelectKBest(k=7, score_func=<function f_classif at 0x0000000009594AC8>)), ('classifier', GaussianNB())])\n"
     ]
    }
   ],
   "source": [
    "print \"Best estimator found by grid search:\"\n",
    "NB = gs.best_estimator_\n",
    "print NB"
   ]
  },
  {
   "cell_type": "code",
   "execution_count": 240,
   "metadata": {
    "collapsed": false
   },
   "outputs": [
    {
     "name": "stdout",
     "output_type": "stream",
     "text": [
      "['deferred_income', 'exercised_stock_option_ratio', 'long_term_incentive', 'bonus', 'total_stock_value', 'salary', 'exercised_stock_options']\n"
     ]
    }
   ],
   "source": [
    "features_selected_bool = gs.best_estimator_.named_steps['filter'].get_support()\n",
    "features_selected_list = [x for x, y in zip(feature_list[1:], features_selected_bool) if y]\n",
    "print features_selected_list"
   ]
  },
  {
   "cell_type": "code",
   "execution_count": 157,
   "metadata": {
    "collapsed": false
   },
   "outputs": [
    {
     "name": "stdout",
     "output_type": "stream",
     "text": [
      "[  1.69882435   0.21705893   6.23420114  11.59554766  24.26781551\n",
      "  10.07245453   0.06498431   8.74648553   0.03006828   7.2427304\n",
      "   0.1641645    4.20497086   2.10765594  21.06000171  24.46765405\n",
      "   5.34494152   2.42650813   9.34670079  18.57570327   8.86672154\n",
      "  25.09754153]\n"
     ]
    }
   ],
   "source": [
    "scores = gs.best_estimator_.named_steps['filter'].scores_\n",
    "print scores"
   ]
  },
  {
   "cell_type": "code",
   "execution_count": 241,
   "metadata": {
    "collapsed": false
   },
   "outputs": [
    {
     "name": "stdout",
     "output_type": "stream",
     "text": [
      "deferred_income 0.217\n",
      "exercised_stock_option_ratio 6.234\n",
      "long_term_incentive 11.596\n",
      "bonus 8.746\n",
      "total_stock_value 0.03\n",
      "salary 2.108\n",
      "exercised_stock_options 24.468\n"
     ]
    }
   ],
   "source": [
    "for feature, score in zip(feature_list[1:], scores):\n",
    "    if feature in features_selected_list:\n",
    "        print feature, round(score,3)"
   ]
  },
  {
   "cell_type": "code",
   "execution_count": 159,
   "metadata": {
    "collapsed": false
   },
   "outputs": [
    {
     "name": "stdout",
     "output_type": "stream",
     "text": [
      "Pipeline(steps=[('filter', SelectKBest(k=7, score_func=<function f_classif at 0x0000000009594AC8>)), ('classifier', GaussianNB())])\n",
      "\tAccuracy: 0.88800\tPrecision: 0.71053\tRecall: 0.27000\tF1: 0.39130\tF2: 0.30822\n",
      "\tTotal predictions: 1500\tTrue positives:   54\tFalse positives:   22\tFalse negatives:  146\tTrue negatives: 1278\n",
      "\n"
     ]
    }
   ],
   "source": [
    "#test the performance with best selected features\n",
    "test_classifier(NB, my_dataset, feature_list, folds = 100)"
   ]
  },
  {
   "cell_type": "markdown",
   "metadata": {},
   "source": [
    "## The above 7 features have the highest weight for Naive Bayes Classifier. Next, explore K Nearest Neighbors (KNN) Classifier for feature selection"
   ]
  },
  {
   "cell_type": "code",
   "execution_count": 162,
   "metadata": {
    "collapsed": false
   },
   "outputs": [
    {
     "name": "stdout",
     "output_type": "stream",
     "text": [
      "Pipeline(steps=[('scaler', MinMaxScaler(copy=True, feature_range=(0, 1))), ('filter', SelectKBest(k=10, score_func=<function f_classif at 0x0000000009594AC8>)), ('classifier', KNeighborsClassifier(algorithm='auto', leaf_size=30, metric='minkowski',\n",
      "           metric_params=None, n_jobs=1, n_neighbors=5, p=2,\n",
      "           weights='uniform'))])\n",
      "\tAccuracy: 0.86000\tPrecision: 0.38636\tRecall: 0.08500\tF1: 0.13934\tF2: 0.10071\n",
      "\tTotal predictions: 1500\tTrue positives:   17\tFalse positives:   27\tFalse negatives:  183\tTrue negatives: 1273\n",
      "\n"
     ]
    }
   ],
   "source": [
    "from sklearn.neighbors import KNeighborsClassifier\n",
    "\n",
    "KNN = KNeighborsClassifier()\n",
    "pipeline_KNN = Pipeline([(\"scaler\", scaler),\n",
    "                         (\"filter\", select_filter),\n",
    "                        (\"classifier\", KNN)])\n",
    "test_classifier(pipeline_KNN, my_dataset, feature_list, folds = 100)"
   ]
  },
  {
   "cell_type": "code",
   "execution_count": 201,
   "metadata": {
    "collapsed": false
   },
   "outputs": [
    {
     "data": {
      "text/plain": [
       "GridSearchCV(cv=StratifiedShuffleSplit(labels=[ 0.  0. ...,  1.  0.], n_iter=100, test_size=0.1, random_state=42),\n",
       "       error_score='raise',\n",
       "       estimator=Pipeline(steps=[('scaler', MinMaxScaler(copy=True, feature_range=(0, 1))), ('filter', SelectKBest(k=10, score_func=<function f_classif at 0x0000000009594AC8>)), ('classifier', KNeighborsClassifier(algorithm='auto', leaf_size=30, metric='minkowski',\n",
       "           metric_params=None, n_jobs=1, n_neighbors=5, p=2,\n",
       "           weights='uniform'))]),\n",
       "       fit_params={}, iid=True, n_jobs=1,\n",
       "       param_grid={'filter__k': [2, 3, 4, 5, 6, 7, 10]},\n",
       "       pre_dispatch='2*n_jobs', refit=True, scoring='f1', verbose=0)"
      ]
     },
     "execution_count": 201,
     "metadata": {},
     "output_type": "execute_result"
    }
   ],
   "source": [
    "parameters = { \"filter__k\": [2,3,4,5,6,7,10]\n",
    "    \n",
    "}\n",
    "\n",
    "gs = GridSearchCV(pipeline_KNN, param_grid= parameters, scoring = 'f1', cv =sss ) \n",
    "\n",
    "gs.fit(features,labels)"
   ]
  },
  {
   "cell_type": "code",
   "execution_count": 202,
   "metadata": {
    "collapsed": false
   },
   "outputs": [
    {
     "name": "stdout",
     "output_type": "stream",
     "text": [
      "Best estimator found by grid search:\n",
      "Pipeline(steps=[('scaler', MinMaxScaler(copy=True, feature_range=(0, 1))), ('filter', SelectKBest(k=4, score_func=<function f_classif at 0x0000000009594AC8>)), ('classifier', KNeighborsClassifier(algorithm='auto', leaf_size=30, metric='minkowski',\n",
      "           metric_params=None, n_jobs=1, n_neighbors=5, p=2,\n",
      "           weights='uniform'))])\n"
     ]
    }
   ],
   "source": [
    "print \"Best estimator found by grid search:\"\n",
    "KNN_selected_features = gs.best_estimator_\n",
    "print KNN_selected_features"
   ]
  },
  {
   "cell_type": "code",
   "execution_count": 203,
   "metadata": {
    "collapsed": false
   },
   "outputs": [
    {
     "name": "stdout",
     "output_type": "stream",
     "text": [
      "['exercised_stock_option_ratio', 'bonus', 'total_stock_value', 'exercised_stock_options']\n"
     ]
    }
   ],
   "source": [
    "features_selected_bool = gs.best_estimator_.named_steps['filter'].get_support()\n",
    "features_selected_list = [x for x, y in zip(feature_list[1:], features_selected_bool) if y]\n",
    "print features_selected_list"
   ]
  },
  {
   "cell_type": "code",
   "execution_count": 204,
   "metadata": {
    "collapsed": false
   },
   "outputs": [
    {
     "name": "stdout",
     "output_type": "stream",
     "text": [
      "[  1.69882435   0.21705893   6.23420114  11.59554766  24.26781551\n",
      "  10.07245453   0.06498431   8.74648553   0.03006828   7.2427304\n",
      "   0.1641645    4.20497086   2.10765594  21.06000171  24.46765405\n",
      "   5.34494152   2.42650813   9.34670079  18.57570327   8.86672154\n",
      "  25.09754153]\n"
     ]
    }
   ],
   "source": [
    "scores = gs.best_estimator_.named_steps['filter'].scores_\n",
    "print scores"
   ]
  },
  {
   "cell_type": "code",
   "execution_count": 205,
   "metadata": {
    "collapsed": false
   },
   "outputs": [
    {
     "name": "stdout",
     "output_type": "stream",
     "text": [
      "exercised_stock_option_ratio 24.2678155059\n",
      "bonus 21.0600017075\n",
      "total_stock_value 24.4676540475\n",
      "exercised_stock_options 25.0975415287\n"
     ]
    }
   ],
   "source": [
    "for feature, score in zip(feature_list[1:], scores):\n",
    "    if feature in features_selected_list:\n",
    "        print feature, score"
   ]
  },
  {
   "cell_type": "code",
   "execution_count": 206,
   "metadata": {
    "collapsed": false
   },
   "outputs": [
    {
     "name": "stdout",
     "output_type": "stream",
     "text": [
      "Pipeline(steps=[('scaler', MinMaxScaler(copy=True, feature_range=(0, 1))), ('filter', SelectKBest(k=4, score_func=<function f_classif at 0x0000000009594AC8>)), ('classifier', KNeighborsClassifier(algorithm='auto', leaf_size=30, metric='minkowski',\n",
      "           metric_params=None, n_jobs=1, n_neighbors=5, p=2,\n",
      "           weights='uniform'))])\n",
      "\tAccuracy: 0.88200\tPrecision: 0.68254\tRecall: 0.21500\tF1: 0.32700\tF2: 0.24913\n",
      "\tTotal predictions: 1500\tTrue positives:   43\tFalse positives:   20\tFalse negatives:  157\tTrue negatives: 1280\n",
      "\n"
     ]
    }
   ],
   "source": [
    "#test the performance with best selected features\n",
    "test_classifier(KNN_selected_features, my_dataset, feature_list, folds = 100)"
   ]
  },
  {
   "cell_type": "markdown",
   "metadata": {},
   "source": [
    "## The above 4 features have the highest weight for KNN classifier. However, the performance of KNN is worse than Naive Bayes Classifier. Next, explore Adaboost classifier"
   ]
  },
  {
   "cell_type": "code",
   "execution_count": 171,
   "metadata": {
    "collapsed": false
   },
   "outputs": [
    {
     "name": "stdout",
     "output_type": "stream",
     "text": [
      "Pipeline(steps=[('filter', SelectKBest(k=10, score_func=<function f_classif at 0x0000000009594AC8>)), ('classifier', AdaBoostClassifier(algorithm='SAMME.R', base_estimator=None,\n",
      "          learning_rate=1.0, n_estimators=50, random_state=1))])\n",
      "\tAccuracy: 0.83600\tPrecision: 0.34667\tRecall: 0.26000\tF1: 0.29714\tF2: 0.27368\n",
      "\tTotal predictions: 1500\tTrue positives:   52\tFalse positives:   98\tFalse negatives:  148\tTrue negatives: 1202\n",
      "\n"
     ]
    }
   ],
   "source": [
    "from sklearn.ensemble import AdaBoostClassifier\n",
    "\n",
    "adaboost_clf = AdaBoostClassifier( random_state = 1)\n",
    "pipeline_Adaboost = Pipeline([(\"filter\", select_filter),\n",
    "                             (\"classifier\", adaboost_clf)])\n",
    "test_classifier(pipeline_Adaboost, my_dataset, feature_list, folds = 100)"
   ]
  },
  {
   "cell_type": "code",
   "execution_count": 207,
   "metadata": {
    "collapsed": false
   },
   "outputs": [
    {
     "data": {
      "text/plain": [
       "GridSearchCV(cv=StratifiedShuffleSplit(labels=[ 0.  0. ...,  1.  0.], n_iter=100, test_size=0.1, random_state=42),\n",
       "       error_score='raise',\n",
       "       estimator=Pipeline(steps=[('filter', SelectKBest(k=10, score_func=<function f_classif at 0x0000000009594AC8>)), ('classifier', AdaBoostClassifier(algorithm='SAMME.R', base_estimator=None,\n",
       "          learning_rate=1.0, n_estimators=50, random_state=1))]),\n",
       "       fit_params={}, iid=True, n_jobs=1,\n",
       "       param_grid={'filter__k': [3, 6, 9, 12, 15, 18]},\n",
       "       pre_dispatch='2*n_jobs', refit=True, scoring='f1', verbose=0)"
      ]
     },
     "execution_count": 207,
     "metadata": {},
     "output_type": "execute_result"
    }
   ],
   "source": [
    "parameters = { \"filter__k\": [3,6,9,12,15,18]\n",
    "    \n",
    "}\n",
    "\n",
    "gs = GridSearchCV(pipeline_Adaboost, param_grid= parameters, scoring = 'f1', cv =sss ) \n",
    "\n",
    "gs.fit(features,labels)"
   ]
  },
  {
   "cell_type": "code",
   "execution_count": 208,
   "metadata": {
    "collapsed": false
   },
   "outputs": [
    {
     "name": "stdout",
     "output_type": "stream",
     "text": [
      "Best estimator found by grid search:\n",
      "Pipeline(steps=[('filter', SelectKBest(k=15, score_func=<function f_classif at 0x0000000009594AC8>)), ('classifier', AdaBoostClassifier(algorithm='SAMME.R', base_estimator=None,\n",
      "          learning_rate=1.0, n_estimators=50, random_state=1))])\n"
     ]
    }
   ],
   "source": [
    "print \"Best estimator found by grid search:\"\n",
    "Adaboost_selected_features = gs.best_estimator_\n",
    "print Adaboost_selected_features"
   ]
  },
  {
   "cell_type": "code",
   "execution_count": 209,
   "metadata": {
    "collapsed": false
   },
   "outputs": [
    {
     "name": "stdout",
     "output_type": "stream",
     "text": [
      "['expenses', 'deferred_income', 'exercised_stock_option_ratio', 'long_term_incentive', 'shared_receipt_with_poi', 'loan_advances', 'other', 'bonus', 'total_stock_value', 'from_poi_to_this_person', 'from_this_person_to_poi', 'restricted_stock', 'salary', 'total_payments', 'exercised_stock_options']\n"
     ]
    }
   ],
   "source": [
    "features_selected_bool = gs.best_estimator_.named_steps['filter'].get_support()\n",
    "features_selected_list = [x for x, y in zip(feature_list[1:], features_selected_bool) if y]\n",
    "print features_selected_list"
   ]
  },
  {
   "cell_type": "code",
   "execution_count": 210,
   "metadata": {
    "collapsed": false
   },
   "outputs": [
    {
     "name": "stdout",
     "output_type": "stream",
     "text": [
      "[  1.69882435   0.21705893   6.23420114  11.59554766  24.26781551\n",
      "  10.07245453   0.06498431   8.74648553   0.03006828   7.2427304\n",
      "   0.1641645    4.20497086   2.10765594  21.06000171  24.46765405\n",
      "   5.34494152   2.42650813   9.34670079  18.57570327   8.86672154\n",
      "  25.09754153]\n"
     ]
    }
   ],
   "source": [
    "scores = gs.best_estimator_.named_steps['filter'].scores_\n",
    "print scores"
   ]
  },
  {
   "cell_type": "code",
   "execution_count": 211,
   "metadata": {
    "collapsed": false
   },
   "outputs": [
    {
     "name": "stdout",
     "output_type": "stream",
     "text": [
      "expenses 6.23420114051\n",
      "deferred_income 11.5955476597\n",
      "exercised_stock_option_ratio 24.2678155059\n",
      "long_term_incentive 10.0724545294\n",
      "shared_receipt_with_poi 8.74648553213\n",
      "loan_advances 7.24273039654\n",
      "other 4.2049708583\n",
      "bonus 21.0600017075\n",
      "total_stock_value 24.4676540475\n",
      "from_poi_to_this_person 5.34494152315\n",
      "from_this_person_to_poi 2.42650812724\n",
      "restricted_stock 9.34670079105\n",
      "salary 18.575703268\n",
      "total_payments 8.86672153711\n",
      "exercised_stock_options 25.0975415287\n"
     ]
    }
   ],
   "source": [
    "for feature, score in zip(feature_list[1:], scores):\n",
    "    if feature in features_selected_list:\n",
    "        print feature, score"
   ]
  },
  {
   "cell_type": "code",
   "execution_count": 212,
   "metadata": {
    "collapsed": false
   },
   "outputs": [
    {
     "name": "stdout",
     "output_type": "stream",
     "text": [
      "Pipeline(steps=[('filter', SelectKBest(k=15, score_func=<function f_classif at 0x0000000009594AC8>)), ('classifier', AdaBoostClassifier(algorithm='SAMME.R', base_estimator=None,\n",
      "          learning_rate=1.0, n_estimators=50, random_state=1))])\n",
      "\tAccuracy: 0.84267\tPrecision: 0.39535\tRecall: 0.34000\tF1: 0.36559\tF2: 0.34979\n",
      "\tTotal predictions: 1500\tTrue positives:   68\tFalse positives:  104\tFalse negatives:  132\tTrue negatives: 1196\n",
      "\n"
     ]
    }
   ],
   "source": [
    "#test the performance with best selected features\n",
    "test_classifier(Adaboost_selected_features, my_dataset, feature_list, folds = 100)"
   ]
  },
  {
   "cell_type": "markdown",
   "metadata": {},
   "source": [
    "## With 15 best selected features, Adaboost Classifier achieved relatively high precision (0.395) and recall (0.34). In the next step, further tune Adaboost Algorithm and compare its performance with the simple Naive Bayes algorithm"
   ]
  },
  {
   "cell_type": "markdown",
   "metadata": {},
   "source": [
    "## After testing three classifiers with KBestSelect method, I found that the number of best features selected by KBestSelect algorithm depends on the classifier. Naive Bayer Classifier selected 7 best features. KNN Classifier selected 4 best features. Adaboost Classifier selected 15 best features. "
   ]
  },
  {
   "cell_type": "markdown",
   "metadata": {},
   "source": [
    "# 3 Pick and tune an algorithm"
   ]
  },
  {
   "cell_type": "markdown",
   "metadata": {},
   "source": [
    "### An algorithm usually takes a few parameters. Tuning the parameters using training data can improve performance on test data. For example, in the ensemble method, Adaboost classifier combines several weak decision tree classifiers. There are several parameters to tune for the Adaboost classifier, including the type of base estimator and the number of base estimators. "
   ]
  },
  {
   "cell_type": "code",
   "execution_count": 214,
   "metadata": {
    "collapsed": false
   },
   "outputs": [
    {
     "name": "stdout",
     "output_type": "stream",
     "text": [
      "['poi', 'expenses', 'deferred_income', 'exercised_stock_option_ratio', 'long_term_incentive', 'shared_receipt_with_poi', 'loan_advances', 'other', 'bonus', 'total_stock_value', 'from_poi_to_this_person', 'from_this_person_to_poi', 'restricted_stock', 'salary', 'total_payments', 'exercised_stock_options']\n"
     ]
    }
   ],
   "source": [
    "feature_list = ['poi'] + features_selected_list\n",
    "print feature_list"
   ]
  },
  {
   "cell_type": "code",
   "execution_count": 215,
   "metadata": {
    "collapsed": true
   },
   "outputs": [],
   "source": [
    "data = featureFormat(my_dataset, feature_list, sort_keys = True)\n",
    "labels, features = targetFeatureSplit(data)"
   ]
  },
  {
   "cell_type": "code",
   "execution_count": 224,
   "metadata": {
    "collapsed": false
   },
   "outputs": [],
   "source": [
    "parameters = {\"n_estimators\": [ 60, 65, 70, 75, 80],\n",
    "              \"learning_rate\": [0.1, 1., 10.]\n",
    "             }\n",
    "Adaboost = AdaBoostClassifier(random_state = 1)"
   ]
  },
  {
   "cell_type": "code",
   "execution_count": 225,
   "metadata": {
    "collapsed": false
   },
   "outputs": [],
   "source": [
    "sss = StratifiedShuffleSplit(labels,  n_iter=100, random_state = 42)"
   ]
  },
  {
   "cell_type": "code",
   "execution_count": 226,
   "metadata": {
    "collapsed": false
   },
   "outputs": [],
   "source": [
    "gs = GridSearchCV(Adaboost, param_grid= parameters, scoring = 'f1', cv =sss ) # F1 score is a combination of precision and recall\n"
   ]
  },
  {
   "cell_type": "code",
   "execution_count": 227,
   "metadata": {
    "collapsed": false
   },
   "outputs": [
    {
     "data": {
      "text/plain": [
       "GridSearchCV(cv=StratifiedShuffleSplit(labels=[ 0.  0. ...,  1.  0.], n_iter=100, test_size=0.1, random_state=42),\n",
       "       error_score='raise',\n",
       "       estimator=AdaBoostClassifier(algorithm='SAMME.R', base_estimator=None,\n",
       "          learning_rate=1.0, n_estimators=50, random_state=1),\n",
       "       fit_params={}, iid=True, n_jobs=1,\n",
       "       param_grid={'n_estimators': [60, 65, 70, 75, 80], 'learning_rate': [0.1, 1.0, 10.0]},\n",
       "       pre_dispatch='2*n_jobs', refit=True, scoring='f1', verbose=0)"
      ]
     },
     "execution_count": 227,
     "metadata": {},
     "output_type": "execute_result"
    }
   ],
   "source": [
    "gs.fit(features, labels)"
   ]
  },
  {
   "cell_type": "code",
   "execution_count": 228,
   "metadata": {
    "collapsed": false
   },
   "outputs": [
    {
     "name": "stdout",
     "output_type": "stream",
     "text": [
      "Best estimator found by grid search:\n",
      "AdaBoostClassifier(algorithm='SAMME.R', base_estimator=None,\n",
      "          learning_rate=1.0, n_estimators=70, random_state=1)\n"
     ]
    }
   ],
   "source": [
    "print \"Best estimator found by grid search:\"\n",
    "adaboost_clf = gs.best_estimator_\n",
    "print adaboost_clf"
   ]
  },
  {
   "cell_type": "markdown",
   "metadata": {},
   "source": [
    "### Apply the best parameters found by grid search algorithm to evaluate the dataset again"
   ]
  },
  {
   "cell_type": "code",
   "execution_count": 229,
   "metadata": {
    "collapsed": false
   },
   "outputs": [
    {
     "name": "stdout",
     "output_type": "stream",
     "text": [
      "AdaBoostClassifier(algorithm='SAMME.R', base_estimator=None,\n",
      "          learning_rate=1.0, n_estimators=70, random_state=1)\n",
      "\tAccuracy: 0.85133\tPrecision: 0.42675\tRecall: 0.33500\tF1: 0.37535\tF2: 0.35005\n",
      "\tTotal predictions: 1500\tTrue positives:   67\tFalse positives:   90\tFalse negatives:  133\tTrue negatives: 1210\n",
      "\n"
     ]
    }
   ],
   "source": [
    "#test the performance with best selected features\n",
    "test_classifier(adaboost_clf, my_dataset, feature_list, folds = 100)"
   ]
  },
  {
   "cell_type": "markdown",
   "metadata": {},
   "source": [
    "## This Adaboost classifier has improved prcision and recall after tuning. Compared to Naive Bayes classifier, Adaboost achieved a better balance of precision and recall."
   ]
  },
  {
   "cell_type": "markdown",
   "metadata": {
    "collapsed": true
   },
   "source": [
    "### After tuning the Adaboost classifier, its performance is improved. F1 score increased from 0.365 to 0.375. Precision is 0.426. Recall is 0.335"
   ]
  },
  {
   "cell_type": "code",
   "execution_count": 230,
   "metadata": {
    "collapsed": true
   },
   "outputs": [],
   "source": [
    "clf = adaboost_clf"
   ]
  },
  {
   "cell_type": "code",
   "execution_count": 231,
   "metadata": {
    "collapsed": false
   },
   "outputs": [
    {
     "name": "stdout",
     "output_type": "stream",
     "text": [
      "===========================\n"
     ]
    }
   ],
   "source": [
    "\n",
    "\n",
    "print \"===========================\"\n",
    "### Task 5: Tune your classifier to achieve better than .3 precision and recall\n",
    "### using our testing script. Check the tester.py script in the final project\n",
    "### folder for details on the evaluation method, especially the test_classifier\n",
    "### function. Because of the small size of the dataset, the script uses\n",
    "### stratified shuffle split cross validation. For more info:\n",
    "### http://scikit-learn.org/stable/modules/generated/sklearn.cross_validation.StratifiedShuffleSplit.html\n",
    "\n",
    "# Example starting point. Try investigating other evaluation techniques!\n",
    "from sklearn.cross_validation import train_test_split\n",
    "features_train, features_test, labels_train, labels_test = \\\n",
    "    train_test_split(features, labels, test_size=0.3, random_state=42)\n",
    "\n",
    "### Task 6: Dump your classifier, dataset, and features_list so anyone can\n",
    "### check your results. You do not need to change anything below, but make sure\n",
    "### that the version of poi_id.py that you submit can be run on its own and\n",
    "### generates the necessary .pkl files for validating your results.\n",
    "\n",
    "dump_classifier_and_data(clf, my_dataset, feature_list)\n"
   ]
  }
 ],
 "metadata": {
  "kernelspec": {
   "display_name": "Python 2",
   "language": "python",
   "name": "python2"
  },
  "language_info": {
   "codemirror_mode": {
    "name": "ipython",
    "version": 2
   },
   "file_extension": ".py",
   "mimetype": "text/x-python",
   "name": "python",
   "nbconvert_exporter": "python",
   "pygments_lexer": "ipython2",
   "version": "2.7.11"
  }
 },
 "nbformat": 4,
 "nbformat_minor": 0
}
